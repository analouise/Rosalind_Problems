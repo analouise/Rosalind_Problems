{
  "nbformat": 4,
  "nbformat_minor": 0,
  "metadata": {
    "colab": {
      "name": "transcribing_dna_rna.ipynb",
      "provenance": []
    },
    "kernelspec": {
      "name": "python3",
      "display_name": "Python 3"
    }
  },
  "cells": [
    {
      "cell_type": "code",
      "metadata": {
        "id": "IUFq_rlgyobv",
        "colab_type": "code",
        "colab": {}
      },
      "source": [
        "#Transcribing DNA into RNA\n",
        "\n",
        "seq = 'GATGGAACTTGACTACGTAAATT'\n",
        "novaseq = seq.replace(\"T\", \"U\")\n",
        "print(novaseq)"
      ],
      "execution_count": 0,
      "outputs": []
    }
  ]
}