{
  "nbformat": 4,
  "nbformat_minor": 0,
  "metadata": {
    "colab": {
      "name": "counting_dna_nucleotides.ipynb",
      "provenance": []
    },
    "kernelspec": {
      "name": "python3",
      "display_name": "Python 3"
    }
  },
  "cells": [
    {
      "cell_type": "code",
      "metadata": {
        "id": "bteZqRkBx-Mk",
        "colab_type": "code",
        "colab": {
          "base_uri": "https://localhost:8080/",
          "height": 34
        },
        "outputId": "5b9acce7-63a1-4cb6-c0e8-87e52280c85f"
      },
      "source": [
        "#Counting DNA Nucleotides\n",
        "\n",
        "text = 'AGCTTTTCATTCTGACTGCAACGGGCAATATGTCTCTGTGTGGATTAAAAAAAGAGTGTCTGATAGCAGC'\n",
        "print('{0} {1} {2} {3}'.format(text.count('A'),text.count('C'),text.count('G'),text.count('T'))) "
      ],
      "execution_count": 1,
      "outputs": [
        {
          "output_type": "stream",
          "text": [
            "20 12 17 21\n"
          ],
          "name": "stdout"
        }
      ]
    }
  ]
}