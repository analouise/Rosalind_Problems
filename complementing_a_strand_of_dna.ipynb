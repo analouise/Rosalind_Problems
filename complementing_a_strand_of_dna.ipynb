{
  "nbformat": 4,
  "nbformat_minor": 0,
  "metadata": {
    "colab": {
      "name": "complementing_a_strand_of_dna.ipynb",
      "provenance": []
    },
    "kernelspec": {
      "name": "python3",
      "display_name": "Python 3"
    }
  },
  "cells": [
    {
      "cell_type": "code",
      "metadata": {
        "id": "MMQXIHg8yNXB",
        "colab_type": "code",
        "colab": {
          "base_uri": "https://localhost:8080/",
          "height": 34
        },
        "outputId": "9bc0f979-d757-49eb-fa8b-75e8a2870010"
      },
      "source": [
        "#Complementing a Strand of DNA\n",
        "\n",
        "seq = 'AAAACCCGGT'\n",
        "seq = seq.replace(\"A\",\"t\",).replace(\"T\", \"a\").replace(\"G\", \"c\").replace(\"C\",\"g\").upper()\n",
        "\n",
        "novaseq = seq[::-1]\n",
        "print (novaseq)"
      ],
      "execution_count": 1,
      "outputs": [
        {
          "output_type": "stream",
          "text": [
            "ACCGGGTTTT\n"
          ],
          "name": "stdout"
        }
      ]
    }
  ]
}